{
 "cells": [
  {
   "cell_type": "code",
   "execution_count": 35,
   "id": "3979bd0b",
   "metadata": {},
   "outputs": [
    {
     "name": "stdout",
     "output_type": "stream",
     "text": [
      "                                           Questions  \\\n",
      "0                    Why and how did I get diabetes?   \n",
      "1  2.   What is the difference between type 1 and...   \n",
      "2                        3.   Can diabetes be cured?   \n",
      "3  4.   Is there such a thing as borderline diabe...   \n",
      "4  5.   What’s the normal glucose level for a dia...   \n",
      "\n",
      "                                             answers  \\\n",
      "0  Diabetes occurs for a number of reasons, but t...   \n",
      "1  Type 1 and Type 2 diabetes are two distinct fo...   \n",
      "2  In general, we do not consider that diabetes c...   \n",
      "3  The term borderline diabetes has now been repl...   \n",
      "4  Fasting blood sugar levels less than 100mg/dL ...   \n",
      "\n",
      "                                           refrences  \n",
      "0  https://www.cwwilliams.org/10-questions-new-ty...  \n",
      "1  https://www.cwwilliams.org/10-questions-new-ty...  \n",
      "2  https://www.cwwilliams.org/10-questions-new-ty...  \n",
      "3  https://www.cwwilliams.org/10-questions-new-ty...  \n",
      "4  https://www.cwwilliams.org/10-questions-new-ty...  \n"
     ]
    }
   ],
   "source": [
    "import pandas as pd\n",
    "\n",
    "# This will skip the first 4 rows and start reading from row 5\n",
    "df = pd.read_excel('data.xlsx', skiprows=7, header=0,engine='calamine')\n",
    "\n",
    "print(df.head())"
   ]
  },
  {
   "cell_type": "code",
   "execution_count": 36,
   "id": "956759e0",
   "metadata": {},
   "outputs": [
    {
     "data": {
      "text/plain": [
       "Index(['Questions', 'answers', 'refrences'], dtype='object')"
      ]
     },
     "execution_count": 36,
     "metadata": {},
     "output_type": "execute_result"
    }
   ],
   "source": [
    "df.columns"
   ]
  },
  {
   "cell_type": "code",
   "execution_count": 38,
   "id": "ff3389ad",
   "metadata": {},
   "outputs": [
    {
     "data": {
      "text/html": [
       "<div>\n",
       "<style scoped>\n",
       "    .dataframe tbody tr th:only-of-type {\n",
       "        vertical-align: middle;\n",
       "    }\n",
       "\n",
       "    .dataframe tbody tr th {\n",
       "        vertical-align: top;\n",
       "    }\n",
       "\n",
       "    .dataframe thead th {\n",
       "        text-align: right;\n",
       "    }\n",
       "</style>\n",
       "<table border=\"1\" class=\"dataframe\">\n",
       "  <thead>\n",
       "    <tr style=\"text-align: right;\">\n",
       "      <th></th>\n",
       "      <th>Questions</th>\n",
       "      <th>answers</th>\n",
       "      <th>refrences</th>\n",
       "    </tr>\n",
       "  </thead>\n",
       "  <tbody>\n",
       "    <tr>\n",
       "      <th>0</th>\n",
       "      <td>Why and how did I get diabetes?</td>\n",
       "      <td>Diabetes occurs for a number of reasons, but t...</td>\n",
       "      <td>https://www.cwwilliams.org/10-questions-new-ty...</td>\n",
       "    </tr>\n",
       "    <tr>\n",
       "      <th>1</th>\n",
       "      <td>2.   What is the difference between type 1 and...</td>\n",
       "      <td>Type 1 and Type 2 diabetes are two distinct fo...</td>\n",
       "      <td>https://www.cwwilliams.org/10-questions-new-ty...</td>\n",
       "    </tr>\n",
       "    <tr>\n",
       "      <th>2</th>\n",
       "      <td>3.   Can diabetes be cured?</td>\n",
       "      <td>In general, we do not consider that diabetes c...</td>\n",
       "      <td>https://www.cwwilliams.org/10-questions-new-ty...</td>\n",
       "    </tr>\n",
       "    <tr>\n",
       "      <th>3</th>\n",
       "      <td>4.   Is there such a thing as borderline diabe...</td>\n",
       "      <td>The term borderline diabetes has now been repl...</td>\n",
       "      <td>https://www.cwwilliams.org/10-questions-new-ty...</td>\n",
       "    </tr>\n",
       "    <tr>\n",
       "      <th>4</th>\n",
       "      <td>5.   What’s the normal glucose level for a dia...</td>\n",
       "      <td>Fasting blood sugar levels less than 100mg/dL ...</td>\n",
       "      <td>https://www.cwwilliams.org/10-questions-new-ty...</td>\n",
       "    </tr>\n",
       "  </tbody>\n",
       "</table>\n",
       "</div>"
      ],
      "text/plain": [
       "                                           Questions  \\\n",
       "0                    Why and how did I get diabetes?   \n",
       "1  2.   What is the difference between type 1 and...   \n",
       "2                        3.   Can diabetes be cured?   \n",
       "3  4.   Is there such a thing as borderline diabe...   \n",
       "4  5.   What’s the normal glucose level for a dia...   \n",
       "\n",
       "                                             answers  \\\n",
       "0  Diabetes occurs for a number of reasons, but t...   \n",
       "1  Type 1 and Type 2 diabetes are two distinct fo...   \n",
       "2  In general, we do not consider that diabetes c...   \n",
       "3  The term borderline diabetes has now been repl...   \n",
       "4  Fasting blood sugar levels less than 100mg/dL ...   \n",
       "\n",
       "                                           refrences  \n",
       "0  https://www.cwwilliams.org/10-questions-new-ty...  \n",
       "1  https://www.cwwilliams.org/10-questions-new-ty...  \n",
       "2  https://www.cwwilliams.org/10-questions-new-ty...  \n",
       "3  https://www.cwwilliams.org/10-questions-new-ty...  \n",
       "4  https://www.cwwilliams.org/10-questions-new-ty...  "
      ]
     },
     "execution_count": 38,
     "metadata": {},
     "output_type": "execute_result"
    }
   ],
   "source": [
    "df.head()"
   ]
  },
  {
   "cell_type": "code",
   "execution_count": 51,
   "id": "1c71e1ea",
   "metadata": {},
   "outputs": [
    {
     "name": "stdout",
     "output_type": "stream",
     "text": [
      "👤 User Question: can my sister get diabetes?\n",
      "------------------------------\n",
      "✅ Best Matched Question (Score: 0.8550): 107.           Can my siblings be also diabetic ?\n",
      "\n",
      "📄 Answer: Yes. Type 2 diabetes is a genetic disease. The risk is highest when multiple family members have diabetes, and if the children also are overweight, sedentary and have the other risk factors for type 2 diabetes. Your child has a 10-15% chance of developing type 2 diabetes when you have type 2 diabetes. And if one identical twin has type 2 diabetes, there is a 75% likelihood of the other twin developing type 2 diabetes also.\n",
      "\n",
      "🔗 Reference: https://dtc.ucsf.edu/types-of-diabetes/type2/understanding-type-2-diabetes/how-the-body-  processes-sugar/ketones/\n"
     ]
    }
   ],
   "source": [
    "import pandas as pd\n",
    "import numpy as np\n",
    "from fastembed import TextEmbedding\n",
    "from sklearn.metrics.pairwise import cosine_similarity\n",
    "\n",
    "embedding_model = TextEmbedding()\n",
    "question_embeddings = np.array(list(embedding_model.embed(list(df[\"Questions\"]))))\n",
    "# ...\n",
    "\n",
    "\n",
    "def get_answer(user_question):\n",
    "    \"\"\"\n",
    "    Finds the most relevant answer using FastEmbed's native similarity function.\n",
    "    \"\"\"\n",
    "    query_embedding = list(embedding_model.embed([user_question]))[0]\n",
    "\n",
    "    # Calculate similarity using FastEmbed's built-in function\n",
    "    similarities = cosine_similarity([query_embedding], question_embeddings)[0]\n",
    "\n",
    "    # Find the index of the question with the highest similarity score\n",
    "    best_match_index = np.argmax(similarities)\n",
    "\n",
    "    # Retrieve the best matching question, answer, and reference\n",
    "    best_match_question = df.loc[best_match_index, \"Questions\"]\n",
    "    answer = df.loc[best_match_index, \"answers\"]\n",
    "    reference = df.loc[best_match_index, \"refrences\"]\n",
    "\n",
    "    return best_match_question, answer, reference, similarities[best_match_index]\n",
    "\n",
    "\n",
    "# --- EXAMPLE USAGE ---\n",
    "user_query = \"can my sister get diabetes?\"\n",
    "matched_q, retrieved_answer, retrieved_ref, score = get_answer(user_query)\n",
    "\n",
    "print(f\"👤 User Question: {user_query}\")\n",
    "print(\"-\" * 30)\n",
    "print(f\"✅ Best Matched Question (Score: {score:.4f}): {matched_q}\")\n",
    "print(f\"\\n📄 Answer: {retrieved_answer}\")\n",
    "print(f\"\\n🔗 Reference: {retrieved_ref}\")"
   ]
  }
 ],
 "metadata": {
  "kernelspec": {
   "display_name": "diabot-backend",
   "language": "python",
   "name": "python3"
  },
  "language_info": {
   "codemirror_mode": {
    "name": "ipython",
    "version": 3
   },
   "file_extension": ".py",
   "mimetype": "text/x-python",
   "name": "python",
   "nbconvert_exporter": "python",
   "pygments_lexer": "ipython3",
   "version": "3.13.3"
  }
 },
 "nbformat": 4,
 "nbformat_minor": 5
}
